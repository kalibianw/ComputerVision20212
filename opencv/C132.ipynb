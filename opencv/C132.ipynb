{
 "cells": [
  {
   "cell_type": "markdown",
   "id": "cdd7aae3-3a6f-47ba-88e9-573ea15a43f7",
   "metadata": {},
   "source": [
    "### Arithmetic Operrations on Images"
   ]
  },
  {
   "cell_type": "markdown",
   "id": "7401c5c6-d755-4496-9769-46ac85815950",
   "metadata": {},
   "source": [
    "#### Image Addition"
   ]
  },
  {
   "cell_type": "code",
   "execution_count": 1,
   "id": "21e6f86b-19c8-43f8-ac98-1d2368246d73",
   "metadata": {},
   "outputs": [],
   "source": [
    "import cv2\n",
    "import numpy as np\n",
    "import os"
   ]
  },
  {
   "cell_type": "code",
   "execution_count": 2,
   "id": "45bd0091-5ea4-4fb1-9633-8fdcb2a9dbde",
   "metadata": {},
   "outputs": [],
   "source": [
    "x = np.uint8([250])\n",
    "y = np.uint8([20])"
   ]
  },
  {
   "cell_type": "code",
   "execution_count": 3,
   "id": "b732eba1-3750-45cf-8acb-bcf975cb24e6",
   "metadata": {},
   "outputs": [
    {
     "name": "stdout",
     "output_type": "stream",
     "text": [
      "[[255]]\n"
     ]
    }
   ],
   "source": [
    "print(cv2.add(x, y))"
   ]
  },
  {
   "cell_type": "code",
   "execution_count": 4,
   "id": "db37b1f0-6ad5-4b60-9694-1b6712de5661",
   "metadata": {},
   "outputs": [
    {
     "name": "stdout",
     "output_type": "stream",
     "text": [
      "[14]\n"
     ]
    }
   ],
   "source": [
    "print(x + y)"
   ]
  },
  {
   "cell_type": "code",
   "execution_count": 5,
   "id": "8a23dca1-0ee4-4b07-9ff0-b4f95a1fb96f",
   "metadata": {},
   "outputs": [
    {
     "name": "stdout",
     "output_type": "stream",
     "text": [
      "<class 'numpy.ndarray'> <class 'numpy.ndarray'>\n"
     ]
    }
   ],
   "source": [
    "print(type(x), type(x + y))"
   ]
  },
  {
   "cell_type": "markdown",
   "id": "6c8f840c-ee51-402c-8263-71f98a543fc8",
   "metadata": {},
   "source": [
    "#### Image Blending"
   ]
  },
  {
   "cell_type": "code",
   "execution_count": 6,
   "id": "cf0c5c25-3f3c-40bc-871b-7414691d2324",
   "metadata": {},
   "outputs": [
    {
     "name": "stdout",
     "output_type": "stream",
     "text": [
      "True True\n"
     ]
    }
   ],
   "source": [
    "IMG1_PATH = \"../resource/img/landscape.jpg\"\n",
    "IMG2_PATH = \"../resource/img/OpenCV logo.png\"\n",
    "print(os.path.exists(IMG1_PATH), os.path.exists(IMG2_PATH))"
   ]
  },
  {
   "cell_type": "code",
   "execution_count": 7,
   "id": "a6f6b226-3cd6-485e-863d-b491b5138010",
   "metadata": {},
   "outputs": [
    {
     "name": "stdout",
     "output_type": "stream",
     "text": [
      "(498, 883, 3)\n",
      "(600, 487, 3)\n",
      "(600, 487, 3)\n"
     ]
    }
   ],
   "source": [
    "img1 = cv2.imread(\"../resource/img/landscape.jpg\")\n",
    "print(np.shape(img1))\n",
    "img1_1 = cv2.resize(img1, (487, 600))\n",
    "print(np.shape(img1_1))\n",
    "img2 = cv2.imread(\"../resource/img/OpenCV logo.png\")\n",
    "print(np.shape(img2))"
   ]
  },
  {
   "cell_type": "code",
   "execution_count": 8,
   "id": "d4b19a40-161d-43a3-bcfa-fe753bd0c2e0",
   "metadata": {},
   "outputs": [],
   "source": [
    "dst = cv2.addWeighted(img1_1, 0.7, img2, 0.3, 0)\n",
    "\n",
    "cv2.imshow(\"dst\", dst)\n",
    "cv2.waitKey(0)\n",
    "cv2.destroyAllWindows()"
   ]
  },
  {
   "cell_type": "code",
   "execution_count": 9,
   "id": "3192ce01-408a-4248-a4d4-853e3ece7f8f",
   "metadata": {},
   "outputs": [],
   "source": [
    "def nothing(x):\n",
    "    pass\n",
    "\n",
    "cv2.namedWindow(\"Object\")\n",
    "cv2.createTrackbar('w', \"Object\", 127, 255, nothing)\n",
    "while True:\n",
    "    w = cv2.getTrackbarPos('w', \"Object\") / 255.0\n",
    "    img = cv2.addWeighted(img1_1, w, img2, 1 - w, 0)\n",
    "    cv2.imshow(\"Object\", img)\n",
    "    k = cv2.waitKey(1) & 0xFF\n",
    "    if k == 27:\n",
    "        break\n",
    "    \n",
    "cv2.destroyAllWindows()"
   ]
  },
  {
   "cell_type": "code",
   "execution_count": 21,
   "id": "c19ba821-a724-4a32-9127-1a3720fe8c5f",
   "metadata": {},
   "outputs": [
    {
     "name": "stdout",
     "output_type": "stream",
     "text": [
      "(498, 883, 3)\n",
      "(240, 200, 3)\n",
      "(240, 200, 3)\n",
      "(240, 200, 3)\n"
     ]
    }
   ],
   "source": [
    "img1 = cv2.imread(\"../resource/img/landscape.jpg\")\n",
    "print(img1.shape)\n",
    "img2 = cv2.imread(\"../resource/img/OpenCV logo2.png\")\n",
    "img2 = cv2.resize(img2, (200, 240))\n",
    "print(img2.shape)\n",
    "\n",
    "rows, cols, channels = img2.shape\n",
    "roi = img1[0:rows, 0:cols]\n",
    "\n",
    "img2gray = cv2.cvtColor(img2, cv2.COLOR_BGR2GRAY)\n",
    "ret, mask = cv2.threshold(img2gray, 10, 255, cv2.THRESH_BINARY)\n",
    "mask_inv = cv2.bitwise_not(mask)\n",
    "\n",
    "img1_bg = cv2.bitwise_and(roi, roi, mask = mask_inv)\n",
    "print(img1_bg.shape)\n",
    "img2_fg = cv2.bitwise_and(img2, img2, mask = mask)\n",
    "print(img2_fg.shape)\n",
    "\n",
    "dst = cv2.add(img1_bg, img2_fg)\n",
    "img1[0:rows, 0:cols] = dst\n",
    "\n",
    "cv2.imshow(\"res\", img1)\n",
    "cv2.waitKey(0)\n",
    "cv2.destroyAllWindows()"
   ]
  }
 ],
 "metadata": {
  "kernelspec": {
   "display_name": "Python 3",
   "language": "python",
   "name": "python3"
  },
  "language_info": {
   "codemirror_mode": {
    "name": "ipython",
    "version": 3
   },
   "file_extension": ".py",
   "mimetype": "text/x-python",
   "name": "python",
   "nbconvert_exporter": "python",
   "pygments_lexer": "ipython3",
   "version": "3.8.11"
  }
 },
 "nbformat": 4,
 "nbformat_minor": 5
}
