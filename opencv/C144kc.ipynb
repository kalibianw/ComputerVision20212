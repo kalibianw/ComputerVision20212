{
 "cells": [
  {
   "cell_type": "markdown",
   "metadata": {},
   "source": [
    "# 1.4.4 Smoothing Images"
   ]
  },
  {
   "cell_type": "markdown",
   "metadata": {},
   "source": [
    "## Kernel Convolution"
   ]
  },
  {
   "cell_type": "code",
   "execution_count": 1,
   "metadata": {},
   "outputs": [],
   "source": [
    "import cv2\n",
    "import numpy as np\n",
    "from matplotlib import pyplot as plt\n"
   ]
  },
  {
   "cell_type": "code",
   "execution_count": 2,
   "metadata": {},
   "outputs": [],
   "source": [
    "l=1\n",
    "kernel = np.array([[0,-1,0],[-1,4,-1],[0,-1,0]],np.float32)"
   ]
  },
  {
   "cell_type": "code",
   "execution_count": 3,
   "metadata": {},
   "outputs": [
    {
     "data": {
      "text/plain": [
       "array([[ 0., -1.,  0.],\n",
       "       [-1.,  4., -1.],\n",
       "       [ 0., -1.,  0.]], dtype=float32)"
      ]
     },
     "execution_count": 3,
     "metadata": {},
     "output_type": "execute_result"
    }
   ],
   "source": [
    "kernel"
   ]
  },
  {
   "cell_type": "code",
   "execution_count": 4,
   "metadata": {},
   "outputs": [],
   "source": [
    "img = np.random.randint(10, size=(12,12))\n",
    "#img = np.ones((10,10),np.float32)"
   ]
  },
  {
   "cell_type": "code",
   "execution_count": 5,
   "metadata": {},
   "outputs": [
    {
     "data": {
      "text/plain": [
       "array([[1, 8, 3, 4, 5, 4, 7, 7, 8, 8, 8, 4],\n",
       "       [2, 4, 3, 5, 8, 4, 3, 5, 4, 0, 6, 9],\n",
       "       [2, 9, 7, 4, 6, 9, 1, 7, 7, 4, 2, 7],\n",
       "       [3, 8, 6, 7, 3, 8, 4, 8, 9, 9, 5, 4],\n",
       "       [1, 5, 6, 4, 8, 6, 0, 2, 5, 3, 9, 1],\n",
       "       [0, 5, 7, 1, 9, 5, 9, 4, 0, 4, 0, 1],\n",
       "       [8, 0, 1, 4, 8, 2, 7, 7, 7, 2, 3, 6],\n",
       "       [3, 7, 8, 2, 9, 0, 3, 3, 7, 8, 3, 2],\n",
       "       [3, 0, 7, 8, 9, 8, 2, 2, 8, 4, 0, 5],\n",
       "       [3, 7, 8, 2, 1, 6, 1, 0, 5, 4, 6, 0],\n",
       "       [1, 0, 4, 0, 6, 8, 5, 7, 1, 2, 4, 8],\n",
       "       [4, 9, 0, 8, 5, 9, 8, 1, 2, 9, 2, 8]])"
      ]
     },
     "execution_count": 5,
     "metadata": {},
     "output_type": "execute_result"
    }
   ],
   "source": [
    "img"
   ]
  },
  {
   "cell_type": "code",
   "execution_count": 6,
   "metadata": {},
   "outputs": [],
   "source": [
    "h,w=img.shape"
   ]
  },
  {
   "cell_type": "code",
   "execution_count": 7,
   "metadata": {},
   "outputs": [
    {
     "name": "stdout",
     "output_type": "stream",
     "text": [
      "12 12\n"
     ]
    }
   ],
   "source": [
    "print(h,w)"
   ]
  },
  {
   "cell_type": "code",
   "execution_count": 8,
   "metadata": {},
   "outputs": [],
   "source": [
    "#[*range(-2,3)]"
   ]
  },
  {
   "cell_type": "code",
   "execution_count": 9,
   "metadata": {},
   "outputs": [
    {
     "name": "stderr",
     "output_type": "stream",
     "text": [
      "C:\\Users\\admin\\AppData\\Local\\Temp/ipykernel_15684/2160328971.py:1: DeprecationWarning: `np.int` is a deprecated alias for the builtin `int`. To silence this warning, use `int` by itself. Doing this will not modify any behavior and is safe. When replacing `np.int`, you may wish to use e.g. `np.int64` or `np.int32` to specify the precision. If you wish to review your current use, check the release note link for additional information.\n",
      "Deprecated in NumPy 1.20; for more details and guidance: https://numpy.org/devdocs/release/1.20.0-notes.html#deprecations\n",
      "  dst = np.zeros((h,w),np.int)\n"
     ]
    }
   ],
   "source": [
    "dst = np.zeros((h,w),np.int)"
   ]
  },
  {
   "cell_type": "code",
   "execution_count": 10,
   "metadata": {},
   "outputs": [],
   "source": [
    "for i in range(l,h-l):\n",
    "    for j in range(l,w-l):\n",
    "        t=0\n",
    "        for p in range(-l,l+1):\n",
    "            for q in range(-l,l+1):\n",
    "                t += kernel[p+l,q+l]*img[i+p,j+q]\n",
    "        dst[i,j]=t        "
   ]
  },
  {
   "cell_type": "code",
   "execution_count": 11,
   "metadata": {},
   "outputs": [
    {
     "data": {
      "text/plain": [
       "array([[1, 8, 3, 4, 5, 4, 7, 7, 8, 8, 8, 4],\n",
       "       [2, 4, 3, 5, 8, 4, 3, 5, 4, 0, 6, 9],\n",
       "       [2, 9, 7, 4, 6, 9, 1, 7, 7, 4, 2, 7],\n",
       "       [3, 8, 6, 7, 3, 8, 4, 8, 9, 9, 5, 4],\n",
       "       [1, 5, 6, 4, 8, 6, 0, 2, 5, 3, 9, 1],\n",
       "       [0, 5, 7, 1, 9, 5, 9, 4, 0, 4, 0, 1],\n",
       "       [8, 0, 1, 4, 8, 2, 7, 7, 7, 2, 3, 6],\n",
       "       [3, 7, 8, 2, 9, 0, 3, 3, 7, 8, 3, 2],\n",
       "       [3, 0, 7, 8, 9, 8, 2, 2, 8, 4, 0, 5],\n",
       "       [3, 7, 8, 2, 1, 6, 1, 0, 5, 4, 6, 0],\n",
       "       [1, 0, 4, 0, 6, 8, 5, 7, 1, 2, 4, 8],\n",
       "       [4, 9, 0, 8, 5, 9, 8, 1, 2, 9, 2, 8]])"
      ]
     },
     "execution_count": 11,
     "metadata": {},
     "output_type": "execute_result"
    }
   ],
   "source": [
    "img"
   ]
  },
  {
   "cell_type": "code",
   "execution_count": 12,
   "metadata": {},
   "outputs": [
    {
     "data": {
      "text/plain": [
       "array([[  0,   0,   0,   0,   0,   0,   0,   0,   0,   0,   0,   0],\n",
       "       [  0,  -6,  -7,   1,  12,  -8,  -5,  -1,  -4, -22,   5,   0],\n",
       "       [  0,  15,   6,  -9,   0,  17, -19,   7,   4,  -2, -14,   0],\n",
       "       [  0,   9,  -4,  11, -17,  10,  -1,  10,   7,  15,  -4,   0],\n",
       "       [  0,   0,   2,  -6,  10,   3, -21,  -9,   6, -15,  27,   0],\n",
       "       [  0,   8,  15, -20,  14,  -6,  20,  -2, -20,  11, -17,   0],\n",
       "       [  0, -21, -15,   4,   8, -12,   7,   7,  12, -14,   1,   0],\n",
       "       [  0,  17,  15, -21,  17, -22,   0,  -7,   2,  16,  -1,   0],\n",
       "       [  0, -24,   4,  12,  10,  15,  -6,  -5,  14,  -4, -18,   0],\n",
       "       [  0,  17,  12,  -9, -19,   6,  -9, -15,   7,  -1,  16,   0],\n",
       "       [  0, -21,   8, -20,  10,   6,  -4,  21, -12, -10,  -2,   0],\n",
       "       [  0,   0,   0,   0,   0,   0,   0,   0,   0,   0,   0,   0]])"
      ]
     },
     "execution_count": 12,
     "metadata": {},
     "output_type": "execute_result"
    }
   ],
   "source": [
    "dst"
   ]
  },
  {
   "cell_type": "code",
   "execution_count": 13,
   "metadata": {},
   "outputs": [],
   "source": [
    "img = cv2.imread('../resource/img/lena.png', 0)"
   ]
  },
  {
   "cell_type": "code",
   "execution_count": 14,
   "metadata": {},
   "outputs": [],
   "source": [
    "h,w=img.shape"
   ]
  },
  {
   "cell_type": "code",
   "execution_count": 15,
   "metadata": {},
   "outputs": [],
   "source": [
    "dst = np.zeros((h-2*l,w-2*l),np.uint8)"
   ]
  },
  {
   "cell_type": "code",
   "execution_count": 16,
   "metadata": {},
   "outputs": [],
   "source": [
    "for i in range(l,h-l):\n",
    "    for j in range(l,w-l):\n",
    "        t=0\n",
    "        for p in range(-l,l+1):\n",
    "            for q in range(-l,l+1):\n",
    "                t += kernel[p+l,q+l]*img[i+p,j+q]\n",
    "        dst[i-l,j-l]=t "
   ]
  },
  {
   "cell_type": "code",
   "execution_count": 17,
   "metadata": {},
   "outputs": [],
   "source": [
    "cv2.imshow('img',img)\n",
    "cv2.imshow('dst',dst)\n",
    "cv2.waitKey(0)\n",
    "cv2.destroyAllWindows()"
   ]
  },
  {
   "cell_type": "code",
   "execution_count": null,
   "metadata": {},
   "outputs": [],
   "source": []
  }
 ],
 "metadata": {
  "kernelspec": {
   "display_name": "Python 3 (ipykernel)",
   "language": "python",
   "name": "python3"
  },
  "language_info": {
   "codemirror_mode": {
    "name": "ipython",
    "version": 3
   },
   "file_extension": ".py",
   "mimetype": "text/x-python",
   "name": "python",
   "nbconvert_exporter": "python",
   "pygments_lexer": "ipython3",
   "version": "3.8.11"
  }
 },
 "nbformat": 4,
 "nbformat_minor": 4
}
