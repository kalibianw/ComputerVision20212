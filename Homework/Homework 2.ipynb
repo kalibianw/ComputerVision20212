{
 "cells": [
  {
   "cell_type": "code",
   "execution_count": 1,
   "id": "3fa224de-5a95-44e2-8a9d-ad81637300a1",
   "metadata": {},
   "outputs": [],
   "source": [
    "import cv2\n",
    "import numpy as np\n",
    "import matplotlib.pyplot as plt\n",
    "import os"
   ]
  },
  {
   "cell_type": "code",
   "execution_count": 2,
   "id": "b06d6087-24f4-41ec-a66e-7bd15419598c",
   "metadata": {},
   "outputs": [
    {
     "name": "stdout",
     "output_type": "stream",
     "text": [
      "True\n"
     ]
    }
   ],
   "source": [
    "video_file_paths = [\n",
    "    \"../resource/video/tracking/tracking1.avi\",\n",
    "    \"../resource/video/tracking/tracking2.avi\",\n",
    "    \"../resource/video/tracking/tracking3.avi\",\n",
    "    \"../resource/video/tracking/tracking4.avi\"\n",
    "]\n",
    "print(os.path.exists(video_file_paths[0]))"
   ]
  },
  {
   "cell_type": "code",
   "execution_count": 3,
   "id": "2ec55306-86c7-4230-ab45-5fd5429a760a",
   "metadata": {},
   "outputs": [],
   "source": [
    "def nothing(x):\n",
    "    pass"
   ]
  },
  {
   "cell_type": "code",
   "execution_count": 4,
   "id": "4ad7841f-3b7f-406b-9c19-ca96c9f47e5c",
   "metadata": {},
   "outputs": [],
   "source": [
    "lower_value = np.array([100, 100, 100])\n",
    "upper_value = np.array([255, 255, 255])\n",
    "\n",
    "cv2.namedWindow(\"values\")\n",
    "cv2.createTrackbar(\"lower_value_0\", \"values\", 100, 255, nothing)\n",
    "cv2.createTrackbar(\"lower_value_1\", \"values\", 100, 255, nothing)\n",
    "cv2.createTrackbar(\"lower_value_2\", \"values\", 100, 255, nothing)\n",
    "\n",
    "cv2.createTrackbar(\"upper_value_0\", \"values\", 255, 255, nothing)\n",
    "cv2.createTrackbar(\"upper_value_1\", \"values\", 255, 255, nothing)\n",
    "cv2.createTrackbar(\"upper_value_2\", \"values\", 255, 255, nothing)\n"
   ]
  },
  {
   "cell_type": "code",
   "execution_count": 5,
   "id": "95c260f1-60d0-412c-8ba4-15ca4bc45329",
   "metadata": {},
   "outputs": [],
   "source": [
    "# video = cv2.VideoCapture(video_file_paths[0])\n",
    "video = cv2.VideoCapture(0)\n",
    "while video.isOpened():\n",
    "    ret, frame = video.read()\n",
    "    if ret is True:\n",
    "        hsv = cv2.cvtColor(frame, cv2.COLOR_BGR2HSV)\n",
    "        \n",
    "        lower_value[0] = cv2.getTrackbarPos(\"lower_value_0\", \"values\")\n",
    "        lower_value[1] = cv2.getTrackbarPos(\"lower_value_1\", \"values\")\n",
    "        lower_value[2] = cv2.getTrackbarPos(\"lower_value_2\", \"values\")\n",
    "        \n",
    "        upper_value[0] = cv2.getTrackbarPos(\"upper_value_0\", \"values\")\n",
    "        upper_value[1] = cv2.getTrackbarPos(\"upper_value_1\", \"values\")\n",
    "        upper_value[2] = cv2.getTrackbarPos(\"upper_value_2\", \"values\")\n",
    "        \n",
    "        mask = cv2.inRange(hsv, lower_value, upper_value)\n",
    "        cv2.imshow(\"mask\", mask)\n",
    "        cv2.imshow(\"result\", cv2.bitwise_and(frame, frame, mask=mask))\n",
    "        cv2.imshow(\"frame\", frame)\n",
    "        \n",
    "        if cv2.waitKey(1) & 0xFF == ord('q'):\n",
    "            break\n",
    "        if cv2.waitKey(1) == ord('p'):\n",
    "            cv2.waitKey(-1)\n",
    "            \n",
    "    else:\n",
    "        break\n",
    "        \n",
    "video.release()\n",
    "cv2.destroyAllWindows()"
   ]
  }
 ],
 "metadata": {
  "kernelspec": {
   "display_name": "Python 3 (ipykernel)",
   "language": "python",
   "name": "python3"
  },
  "language_info": {
   "codemirror_mode": {
    "name": "ipython",
    "version": 3
   },
   "file_extension": ".py",
   "mimetype": "text/x-python",
   "name": "python",
   "nbconvert_exporter": "python",
   "pygments_lexer": "ipython3",
   "version": "3.8.11"
  }
 },
 "nbformat": 4,
 "nbformat_minor": 5
}
