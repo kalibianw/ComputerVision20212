{
 "cells": [
  {
   "cell_type": "code",
   "execution_count": 1,
   "id": "33b1e2ee-530e-4981-91ee-e4f38f26ebe8",
   "metadata": {},
   "outputs": [],
   "source": [
    "d = {\"user\":\"bozo\", \"pswd\":\"1234\"}"
   ]
  },
  {
   "cell_type": "code",
   "execution_count": 2,
   "id": "9929478d-59d0-4647-826e-af74cbd38da4",
   "metadata": {},
   "outputs": [
    {
     "data": {
      "text/plain": [
       "'bozo'"
      ]
     },
     "execution_count": 2,
     "metadata": {},
     "output_type": "execute_result"
    }
   ],
   "source": [
    "d[\"user\"]"
   ]
  },
  {
   "cell_type": "code",
   "execution_count": 3,
   "id": "5de378f9-f465-49ba-ad0a-a774aaf5be52",
   "metadata": {},
   "outputs": [
    {
     "data": {
      "text/plain": [
       "'1234'"
      ]
     },
     "execution_count": 3,
     "metadata": {},
     "output_type": "execute_result"
    }
   ],
   "source": [
    "d[\"pswd\"]"
   ]
  },
  {
   "cell_type": "code",
   "execution_count": 4,
   "id": "98d9a9a4-7c2a-42f3-8b96-c72fcc838995",
   "metadata": {},
   "outputs": [],
   "source": [
    "d[\"user\"] = \"clown\""
   ]
  },
  {
   "cell_type": "code",
   "execution_count": 5,
   "id": "bdef84ae-09d8-4a03-b7e4-b7cbd4ba3d0b",
   "metadata": {},
   "outputs": [
    {
     "data": {
      "text/plain": [
       "{'user': 'clown', 'pswd': '1234'}"
      ]
     },
     "execution_count": 5,
     "metadata": {},
     "output_type": "execute_result"
    }
   ],
   "source": [
    "d"
   ]
  },
  {
   "cell_type": "code",
   "execution_count": 6,
   "id": "24e8b3fc-9279-4f95-b95b-46be040df974",
   "metadata": {},
   "outputs": [],
   "source": [
    "d[\"id\"] = 45"
   ]
  },
  {
   "cell_type": "code",
   "execution_count": 7,
   "id": "b40628ad-88b9-46b8-ace0-5beb36d1620e",
   "metadata": {},
   "outputs": [
    {
     "data": {
      "text/plain": [
       "{'user': 'clown', 'pswd': '1234', 'id': 45}"
      ]
     },
     "execution_count": 7,
     "metadata": {},
     "output_type": "execute_result"
    }
   ],
   "source": [
    "d"
   ]
  },
  {
   "cell_type": "code",
   "execution_count": 8,
   "id": "1758e6c1-4920-4c7e-b81b-6a12f35c9661",
   "metadata": {},
   "outputs": [],
   "source": [
    "del d[\"id\"]"
   ]
  },
  {
   "cell_type": "code",
   "execution_count": 9,
   "id": "138d385d-5040-4c20-a240-581a085d6f58",
   "metadata": {},
   "outputs": [
    {
     "data": {
      "text/plain": [
       "{'user': 'clown', 'pswd': '1234'}"
      ]
     },
     "execution_count": 9,
     "metadata": {},
     "output_type": "execute_result"
    }
   ],
   "source": [
    "d"
   ]
  },
  {
   "cell_type": "code",
   "execution_count": 11,
   "id": "76daa879-40c1-4d5a-a7bd-4c58e66db8fc",
   "metadata": {},
   "outputs": [],
   "source": [
    "d.clear()"
   ]
  },
  {
   "cell_type": "code",
   "execution_count": 12,
   "id": "e46638f3-3a5c-4edd-ac00-765f224534dd",
   "metadata": {},
   "outputs": [],
   "source": [
    "a = [1, 2]"
   ]
  },
  {
   "cell_type": "code",
   "execution_count": 13,
   "id": "9b0b8ead-bd4d-4b1e-ad6d-773383d0401e",
   "metadata": {},
   "outputs": [],
   "source": [
    "del a[0]"
   ]
  },
  {
   "cell_type": "code",
   "execution_count": 14,
   "id": "01a9afe8-5931-42a7-9b46-06607ea990d7",
   "metadata": {},
   "outputs": [
    {
     "data": {
      "text/plain": [
       "[2]"
      ]
     },
     "execution_count": 14,
     "metadata": {},
     "output_type": "execute_result"
    }
   ],
   "source": [
    "a"
   ]
  },
  {
   "cell_type": "code",
   "execution_count": 15,
   "id": "8cd7808f-be3a-43b2-85f7-a919be508442",
   "metadata": {},
   "outputs": [],
   "source": [
    "d = {\"user\":\"bozo\", \"p\":1234, \"i\":34}"
   ]
  },
  {
   "cell_type": "code",
   "execution_count": 16,
   "id": "bf4e54a3-0a66-44d0-9531-d1020ca4ddb0",
   "metadata": {},
   "outputs": [
    {
     "data": {
      "text/plain": [
       "dict_keys(['user', 'p', 'i'])"
      ]
     },
     "execution_count": 16,
     "metadata": {},
     "output_type": "execute_result"
    }
   ],
   "source": [
    "d.keys()"
   ]
  },
  {
   "cell_type": "code",
   "execution_count": 17,
   "id": "82bef291-ca6a-40e6-9e27-dbe7e56025dc",
   "metadata": {},
   "outputs": [
    {
     "data": {
      "text/plain": [
       "dict_values(['bozo', 1234, 34])"
      ]
     },
     "execution_count": 17,
     "metadata": {},
     "output_type": "execute_result"
    }
   ],
   "source": [
    "d.values()"
   ]
  },
  {
   "cell_type": "code",
   "execution_count": 18,
   "id": "a8f77e5a-5e0f-4016-ac44-981e40d7c017",
   "metadata": {},
   "outputs": [
    {
     "data": {
      "text/plain": [
       "dict_items([('user', 'bozo'), ('p', 1234), ('i', 34)])"
      ]
     },
     "execution_count": 18,
     "metadata": {},
     "output_type": "execute_result"
    }
   ],
   "source": [
    "d.items()"
   ]
  }
 ],
 "metadata": {
  "kernelspec": {
   "display_name": "Python 3",
   "language": "python",
   "name": "python3"
  },
  "language_info": {
   "codemirror_mode": {
    "name": "ipython",
    "version": 3
   },
   "file_extension": ".py",
   "mimetype": "text/x-python",
   "name": "python",
   "nbconvert_exporter": "python",
   "pygments_lexer": "ipython3",
   "version": "3.8.10"
  }
 },
 "nbformat": 4,
 "nbformat_minor": 5
}
