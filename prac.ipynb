{
 "cells": [
  {
   "cell_type": "code",
   "execution_count": 11,
   "id": "e6290215-fd17-4887-b7bf-6b57e130476d",
   "metadata": {},
   "outputs": [],
   "source": [
    "import cv2\n",
    "\n",
    "image = cv2.imread(\"C:/Users/admin/Documents/git_public/ComputerVision20212/resource/img/landscape.jpg\")\n",
    "overlay = image.copy()\n",
    "\n",
    "x, y, w, h = 100, 100, 100, 100  # Rectangle parameters\n",
    "cv2.rectangle(overlay, (x, y), (x+w, y+h), (0, 200, 0), -1)  # A filled rectangle\n",
    "\n",
    "alpha = 0.3  # Transparency factor.\n",
    "\n",
    "# Following line overlays transparent rectangle over the image\n",
    "image_new = cv2.addWeighted(overlay, alpha, image, 1 - alpha, 0)\n",
    "cv2.imshow(\"test\", image_new)\n",
    "cv2.waitKey(0)\n",
    "cv2.destroyAllWindows()"
   ]
  }
 ],
 "metadata": {
  "kernelspec": {
   "display_name": "Python 3",
   "language": "python",
   "name": "python3"
  },
  "language_info": {
   "codemirror_mode": {
    "name": "ipython",
    "version": 3
   },
   "file_extension": ".py",
   "mimetype": "text/x-python",
   "name": "python",
   "nbconvert_exporter": "python",
   "pygments_lexer": "ipython3",
   "version": "3.8.11"
  }
 },
 "nbformat": 4,
 "nbformat_minor": 5
}
