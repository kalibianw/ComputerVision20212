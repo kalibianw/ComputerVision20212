{
 "cells": [
  {
   "cell_type": "markdown",
   "id": "6299dc8c-2986-4b42-8f84-50417745eb6d",
   "metadata": {},
   "source": [
    "### Trackbar as the Color Palette"
   ]
  },
  {
   "cell_type": "code",
   "execution_count": 1,
   "id": "e1cbbc0e-16b1-419b-8d54-87d65c0f6c1e",
   "metadata": {},
   "outputs": [],
   "source": [
    "import cv2\n",
    "import numpy as np"
   ]
  },
  {
   "cell_type": "code",
   "execution_count": 2,
   "id": "f4fb0121-4286-4a4d-805f-9e4eaeb5d108",
   "metadata": {},
   "outputs": [],
   "source": [
    "def nothing(x):\n",
    "    pass"
   ]
  },
  {
   "cell_type": "code",
   "execution_count": 3,
   "id": "6cefc5ba-a748-488e-a10f-4eb8edc5468f",
   "metadata": {},
   "outputs": [],
   "source": [
    "img = np.zeros((300, 512, 3), np.uint8)\n",
    "cv2.namedWindow(\"Image\")\n",
    "\n",
    "cv2.createTrackbar('R', \"Image\", 0, 255, nothing)\n",
    "cv2.createTrackbar('G', \"Image\", 0, 255, nothing)\n",
    "cv2.createTrackbar('B', \"Image\", 0, 255, nothing)\n",
    "\n",
    "switch = \"0 : OFF \\n1 : ON\"\n",
    "cv2.createTrackbar(switch, \"Image\", 0, 1, nothing)"
   ]
  },
  {
   "cell_type": "code",
   "execution_count": 4,
   "id": "47f50c8b-227d-4e7f-9fab-dfb7ae9a68b2",
   "metadata": {},
   "outputs": [],
   "source": [
    "while True:\n",
    "    cv2.imshow(\"Image\", img)\n",
    "    k = cv2.waitKey(1) & 0xFF\n",
    "    if k == 27:\n",
    "        break\n",
    "    \n",
    "    r = cv2.getTrackbarPos('R', \"Image\")\n",
    "    g = cv2.getTrackbarPos('G', \"Image\")\n",
    "    b = cv2.getTrackbarPos('B', \"Image\")\n",
    "    s = cv2.getTrackbarPos(switch, \"Image\")\n",
    "    \n",
    "    if s == 0:\n",
    "        img[:] = 0\n",
    "    else:\n",
    "        img[:] = [b, g, r]\n",
    "        \n",
    "cv2.destroyAllWindows()"
   ]
  }
 ],
 "metadata": {
  "kernelspec": {
   "display_name": "Python 3 (ipykernel)",
   "language": "python",
   "name": "python3"
  },
  "language_info": {
   "codemirror_mode": {
    "name": "ipython",
    "version": 3
   },
   "file_extension": ".py",
   "mimetype": "text/x-python",
   "name": "python",
   "nbconvert_exporter": "python",
   "pygments_lexer": "ipython3",
   "version": "3.8.11"
  }
 },
 "nbformat": 4,
 "nbformat_minor": 5
}
