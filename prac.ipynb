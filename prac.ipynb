{
 "cells": [
  {
   "cell_type": "code",
   "execution_count": 1,
   "id": "5ef896a7-a6df-4564-b89b-f73a523ec6f6",
   "metadata": {},
   "outputs": [],
   "source": [
    "import cv2\n",
    "import numpy as np"
   ]
  },
  {
   "cell_type": "code",
   "execution_count": 4,
   "id": "c1040a5a-053a-45d0-962e-038f6e415f68",
   "metadata": {},
   "outputs": [
    {
     "name": "stdout",
     "output_type": "stream",
     "text": [
      "(5, 5)\n",
      "(3, 3)\n",
      "[[4 0 8 0 0]\n",
      " [0 5 0 0 7]\n",
      " [0 3 0 8 0]\n",
      " [0 3 7 4 0]\n",
      " [0 1 0 2 0]]\n"
     ]
    }
   ],
   "source": [
    "a = np.array([\n",
    "    [1, 2, 1, 4, 5],\n",
    "    [2, 1, 3, 4, 2],\n",
    "    [3, 2, 5, 1, 2],\n",
    "    [5, 2, 1, 1, 4],\n",
    "    [6, 3, 3, 2, 5]\n",
    "], np.uint8)\n",
    "kernel = np.array([\n",
    "    [0, 1, 0],\n",
    "    [1, -4, 1],\n",
    "    [0, 1, 0]\n",
    "])\n",
    "\n",
    "print(np.shape(a))\n",
    "print(np.shape(kernel))\n",
    "\n",
    "dst = cv2.filter2D(a, -1, kernel)\n",
    "print(dst)"
   ]
  },
  {
   "cell_type": "code",
   "execution_count": 21,
   "id": "b25f5bac-fb46-4c59-b3f6-5cccb7490542",
   "metadata": {},
   "outputs": [
    {
     "name": "stdout",
     "output_type": "stream",
     "text": [
      "[[0 0 0 1 0 0 0]\n",
      " [0 0 1 0 0 0 0]\n",
      " [0 0 0 0 1 1 0]\n",
      " [0 1 0 0 1 1 0]\n",
      " [0 0 0 1 1 0 0]\n",
      " [0 0 0 1 1 0 0]\n",
      " [0 0 0 1 1 0 0]]\n"
     ]
    }
   ],
   "source": [
    "img = np.array([\n",
    "    [0, 0, 0, 1, 1, 0, 0],\n",
    "    [0, 0, 1, 1, 0, 0, 0],\n",
    "    [0, 0, 1, 1, 1, 1, 0],\n",
    "    [0, 1, 1, 0, 1, 1, 0],\n",
    "    [0, 1, 0, 1, 1, 1, 0],\n",
    "    [0, 1, 1, 1, 1, 1, 0],\n",
    "    [0, 0, 0, 1, 1, 0, 0],\n",
    "], np.uint8)\n",
    "kernel = np.array([1, 1, 1], np.uint8)\n",
    "\n",
    "erosion = cv2.erode(img, kernel, anchor=(0, 0), iterations=1)\n",
    "print(erosion)"
   ]
  }
 ],
 "metadata": {
  "kernelspec": {
   "display_name": "Python 3 (ipykernel)",
   "language": "python",
   "name": "python3"
  },
  "language_info": {
   "codemirror_mode": {
    "name": "ipython",
    "version": 3
   },
   "file_extension": ".py",
   "mimetype": "text/x-python",
   "name": "python",
   "nbconvert_exporter": "python",
   "pygments_lexer": "ipython3",
   "version": "3.8.11"
  }
 },
 "nbformat": 4,
 "nbformat_minor": 5
}
