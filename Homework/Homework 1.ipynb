{
 "cells": [
  {
   "cell_type": "code",
   "execution_count": 2,
   "id": "89077c12-642a-4ebe-83f4-8dbc68584b66",
   "metadata": {},
   "outputs": [
    {
     "name": "stdout",
     "output_type": "stream",
     "text": [
      "True\n"
     ]
    }
   ],
   "source": [
    "import cv2\n",
    "import numpy as np\n",
    "import os\n",
    "\n",
    "IMG_PATH = \"C:/Users/admin/Documents/git_public/ComputerVision20212/resource/img/landscape.jpg\"\n",
    "print(os.path.exists(IMG_PATH))"
   ]
  },
  {
   "cell_type": "code",
   "execution_count": 3,
   "id": "3048016b-4aa4-4ec9-aa6b-9d0bdfe4fa38",
   "metadata": {},
   "outputs": [],
   "source": [
    "def nothing(x):\n",
    "    pass"
   ]
  },
  {
   "cell_type": "code",
   "execution_count": 4,
   "id": "bd69d4bf-4039-4eb1-b32c-9607f9cc1126",
   "metadata": {},
   "outputs": [],
   "source": [
    "mouse_x, mouse_y = -1, -1\n",
    "def mouse_callback(event, x, y, flags, param):\n",
    "    global mouse_x, mouse_y\n",
    "    if event == cv2.EVENT_MOUSEMOVE:\n",
    "        mouse_x, mouse_y = x, y"
   ]
  },
  {
   "cell_type": "code",
   "execution_count": 7,
   "id": "4470d3bd-4d4f-40c6-8e6f-f4b2bef087d1",
   "metadata": {},
   "outputs": [],
   "source": [
    "img = cv2.imread(IMG_PATH)\n",
    "cv2.namedWindow(\"Image\")\n",
    "\n",
    "cv2.createTrackbar(\"value\", \"Image\", 0, 255, nothing)\n",
    "\n",
    "font = cv2.FONT_HERSHEY_SIMPLEX\n",
    "while True:\n",
    "    cv2.setMouseCallback(\"Image\", mouse_callback)\n",
    "    cv2.putText(img, f\"Mouse position {mouse_x}, {mouse_y}\", (0, 20), font, 1, (255, 255, 255), 1, cv2.LINE_AA)\n",
    "    cv2.imshow(\"Image\", img)\n",
    "    \n",
    "    k = cv2.waitKey(1) & 0xFF\n",
    "    if k == 27:\n",
    "        break\n",
    "        \n",
    "cv2.destroyAllWindows()"
   ]
  }
 ],
 "metadata": {
  "kernelspec": {
   "display_name": "Python 3",
   "language": "python",
   "name": "python3"
  },
  "language_info": {
   "codemirror_mode": {
    "name": "ipython",
    "version": 3
   },
   "file_extension": ".py",
   "mimetype": "text/x-python",
   "name": "python",
   "nbconvert_exporter": "python",
   "pygments_lexer": "ipython3",
   "version": "3.8.11"
  }
 },
 "nbformat": 4,
 "nbformat_minor": 5
}
