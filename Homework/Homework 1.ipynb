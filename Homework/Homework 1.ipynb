{
 "cells": [
  {
   "cell_type": "code",
   "execution_count": 1,
   "id": "89077c12-642a-4ebe-83f4-8dbc68584b66",
   "metadata": {},
   "outputs": [
    {
     "name": "stdout",
     "output_type": "stream",
     "text": [
      "True\n"
     ]
    }
   ],
   "source": [
    "import cv2\n",
    "import numpy as np\n",
    "import os\n",
    "\n",
    "IMG_PATH = \"C:/Users/admin/Documents/git_public/ComputerVision20212/resource/img/landscape.jpg\"\n",
    "print(os.path.exists(IMG_PATH))"
   ]
  },
  {
   "cell_type": "code",
   "execution_count": 2,
   "id": "b73c7ddc-e2b2-4b0e-8212-faf2a4fff914",
   "metadata": {},
   "outputs": [],
   "source": [
    "def nothing(x):\n",
    "    pass"
   ]
  },
  {
   "cell_type": "code",
   "execution_count": 3,
   "id": "f079036b-3efd-4946-9f8b-b1bd78aa9c51",
   "metadata": {},
   "outputs": [],
   "source": [
    "drawing = False\n",
    "ix, iy = -1, -1\n",
    "alpha = 0.5"
   ]
  },
  {
   "cell_type": "code",
   "execution_count": 4,
   "id": "79026094-73d8-4a72-a5a9-c98c8b39c44c",
   "metadata": {},
   "outputs": [],
   "source": [
    "img = cv2.imread(IMG_PATH)\n",
    "overlay = img.copy()"
   ]
  },
  {
   "cell_type": "code",
   "execution_count": 5,
   "id": "58f645bb-5a2a-44a4-8a16-9cb9dc4904d8",
   "metadata": {},
   "outputs": [],
   "source": [
    "def draw_circle_advanced(event, x, y, flags, param):\n",
    "    global ix, iy, drawing, mode\n",
    "    if event == cv2.EVENT_LBUTTONDOWN:\n",
    "        drawing = True\n",
    "        ix, iy = x, y\n",
    "    elif event == cv2.EVENT_MOUSEMOVE:\n",
    "        if drawing == True:\n",
    "            cv2.rectangle(overlay, (ix, iy), (x, y), (0, 0, 255), -1)\n",
    "                \n",
    "    elif event == cv2.EVENT_LBUTTONUP:\n",
    "        drawing = False\n",
    "        cv2.rectangle(overlay, (ix, iy), (x, y), (0, 0, 255), -1)"
   ]
  },
  {
   "cell_type": "code",
   "execution_count": 6,
   "id": "50f0c68b-112d-40c2-861f-1841fcaf37b4",
   "metadata": {},
   "outputs": [],
   "source": [
    "cv2.namedWindow(\"Image\")\n",
    "# box selection\n",
    "cv2.setMouseCallback(\"Image\", draw_circle_advanced)\n",
    "# Trackbar\n",
    "cv2.createTrackbar(\"value\", \"Image\", 127, 255, nothing)\n",
    "# text\n",
    "cv2.putText(overlay, \"It's my homework #1\", (50, 50), cv2.FONT_HERSHEY_SIMPLEX, 1, (255, 255, 255), 1, cv2.LINE_AA)\n",
    "\n",
    "while True:\n",
    "    alpha = cv2.getTrackbarPos(\"value\", \"Image\") / 255.0\n",
    "    img_new = cv2.addWeighted(overlay, alpha, img, 1 - alpha, 0)\n",
    "    \n",
    "    cv2.imshow(\"Image\", img_new)\n",
    "    k = cv2.waitKey(1) & 0xFF\n",
    "    if k == 27:\n",
    "        break\n",
    "        \n",
    "cv2.destroyAllWindows()"
   ]
  }
 ],
 "metadata": {
  "kernelspec": {
   "display_name": "Python 3",
   "language": "python",
   "name": "python3"
  },
  "language_info": {
   "codemirror_mode": {
    "name": "ipython",
    "version": 3
   },
   "file_extension": ".py",
   "mimetype": "text/x-python",
   "name": "python",
   "nbconvert_exporter": "python",
   "pygments_lexer": "ipython3",
   "version": "3.8.11"
  }
 },
 "nbformat": 4,
 "nbformat_minor": 5
}
