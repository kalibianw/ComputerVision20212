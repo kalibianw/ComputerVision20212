{
 "cells": [
  {
   "cell_type": "code",
   "execution_count": 1,
   "id": "8dc597b9-08c7-4b60-87a3-98e25c89ab76",
   "metadata": {},
   "outputs": [],
   "source": [
    "li = [\"abc\", 23, 4.34, 23]"
   ]
  },
  {
   "cell_type": "code",
   "execution_count": 2,
   "id": "f028f9e2-2363-485d-a6b2-a6841010b2aa",
   "metadata": {},
   "outputs": [],
   "source": [
    "li[1] = 45"
   ]
  },
  {
   "cell_type": "code",
   "execution_count": 3,
   "id": "e244ee91-a051-450c-b314-df0094b23b6e",
   "metadata": {},
   "outputs": [
    {
     "data": {
      "text/plain": [
       "['abc', 45, 4.34, 23]"
      ]
     },
     "execution_count": 3,
     "metadata": {},
     "output_type": "execute_result"
    }
   ],
   "source": [
    "li"
   ]
  },
  {
   "cell_type": "code",
   "execution_count": 4,
   "id": "de424c46-3634-480e-baa5-74431677e32e",
   "metadata": {},
   "outputs": [],
   "source": [
    "li.append(\"cba\")"
   ]
  },
  {
   "cell_type": "code",
   "execution_count": 5,
   "id": "ef779922-de28-4a60-b89b-0d3ce40418c4",
   "metadata": {},
   "outputs": [
    {
     "data": {
      "text/plain": [
       "['abc', 45, 4.34, 23, 'cba']"
      ]
     },
     "execution_count": 5,
     "metadata": {},
     "output_type": "execute_result"
    }
   ],
   "source": [
    "li"
   ]
  },
  {
   "cell_type": "code",
   "execution_count": 6,
   "id": "d00af6b0-24a0-436f-b984-b39803cdfc60",
   "metadata": {},
   "outputs": [],
   "source": [
    "li.insert(2, \"test\")"
   ]
  },
  {
   "cell_type": "code",
   "execution_count": 7,
   "id": "1c30e5c9-a90e-4bbd-89a1-a4903783fc15",
   "metadata": {},
   "outputs": [
    {
     "data": {
      "text/plain": [
       "['abc', 45, 'test', 4.34, 23, 'cba']"
      ]
     },
     "execution_count": 7,
     "metadata": {},
     "output_type": "execute_result"
    }
   ],
   "source": [
    "li"
   ]
  },
  {
   "cell_type": "code",
   "execution_count": 8,
   "id": "95007e92-8a3f-4854-9869-7393d2150f31",
   "metadata": {},
   "outputs": [],
   "source": [
    "li.extend([9, 8, 7])"
   ]
  },
  {
   "cell_type": "code",
   "execution_count": 9,
   "id": "d4e4807f-e907-4e38-9218-7b32496a9d09",
   "metadata": {},
   "outputs": [
    {
     "data": {
      "text/plain": [
       "['abc', 45, 'test', 4.34, 23, 'cba', 9, 8, 7]"
      ]
     },
     "execution_count": 9,
     "metadata": {},
     "output_type": "execute_result"
    }
   ],
   "source": [
    "li"
   ]
  },
  {
   "cell_type": "code",
   "execution_count": 10,
   "id": "decdc0af-72bc-444a-8d80-73df4a4feb14",
   "metadata": {},
   "outputs": [],
   "source": [
    "li.append([10, 11, 12])"
   ]
  },
  {
   "cell_type": "code",
   "execution_count": 11,
   "id": "051d86fc-a2d7-4b83-babf-963efe2facbc",
   "metadata": {},
   "outputs": [
    {
     "data": {
      "text/plain": [
       "['abc', 45, 'test', 4.34, 23, 'cba', 9, 8, 7, [10, 11, 12]]"
      ]
     },
     "execution_count": 11,
     "metadata": {},
     "output_type": "execute_result"
    }
   ],
   "source": [
    "li"
   ]
  },
  {
   "cell_type": "code",
   "execution_count": 13,
   "id": "c9f6c95f-3306-4f50-a3e4-fb3f5e137848",
   "metadata": {},
   "outputs": [],
   "source": [
    "li.reverse()"
   ]
  },
  {
   "cell_type": "code",
   "execution_count": 14,
   "id": "65c0407d-d353-486a-a0c3-fbc733aab5ca",
   "metadata": {},
   "outputs": [
    {
     "data": {
      "text/plain": [
       "[[10, 11, 12], 7, 8, 9, 'cba', 23, 4.34, 'test', 45, 'abc']"
      ]
     },
     "execution_count": 14,
     "metadata": {},
     "output_type": "execute_result"
    }
   ],
   "source": [
    "li"
   ]
  },
  {
   "cell_type": "code",
   "execution_count": 15,
   "id": "3db1b6fb-9fff-406d-9568-1b87c149cac5",
   "metadata": {},
   "outputs": [],
   "source": [
    "li = [4, 2, 5, 1]"
   ]
  },
  {
   "cell_type": "code",
   "execution_count": 16,
   "id": "d4d40b42-bc86-47a4-aa47-281d8796a0d7",
   "metadata": {},
   "outputs": [],
   "source": [
    "li.sort()"
   ]
  },
  {
   "cell_type": "code",
   "execution_count": 17,
   "id": "05a91151-c5c3-4e90-9a02-736433f1cdbb",
   "metadata": {},
   "outputs": [
    {
     "data": {
      "text/plain": [
       "[1, 2, 4, 5]"
      ]
     },
     "execution_count": 17,
     "metadata": {},
     "output_type": "execute_result"
    }
   ],
   "source": [
    "li"
   ]
  }
 ],
 "metadata": {
  "kernelspec": {
   "display_name": "Python 3",
   "language": "python",
   "name": "python3"
  },
  "language_info": {
   "codemirror_mode": {
    "name": "ipython",
    "version": 3
   },
   "file_extension": ".py",
   "mimetype": "text/x-python",
   "name": "python",
   "nbconvert_exporter": "python",
   "pygments_lexer": "ipython3",
   "version": "3.8.10"
  }
 },
 "nbformat": 4,
 "nbformat_minor": 5
}
