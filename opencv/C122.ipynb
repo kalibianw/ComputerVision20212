{
 "cells": [
  {
   "cell_type": "code",
   "execution_count": 1,
   "id": "99071f77-dd8e-4ac0-b53b-f2a902a9d44b",
   "metadata": {},
   "outputs": [],
   "source": [
    "import numpy as np\n",
    "import cv2\n",
    "\n",
    "VIDEO_RESOURCE_DIR_PATH = \"C:/Users/admin/Documents/git_public/ComputerVision20212/resource/video/\"\n",
    "CURRENT_DIR_PATH = \"C:/Users/admin/Documents/git_public/ComputerVision20212/opencv/\""
   ]
  },
  {
   "cell_type": "markdown",
   "id": "b30c6955-d582-412c-8644-adf7d6e2aa86",
   "metadata": {},
   "source": [
    "#### Capture Video from Camera"
   ]
  },
  {
   "cell_type": "code",
   "execution_count": 5,
   "id": "14d4e774-48f5-4310-880f-6849ffa6feb0",
   "metadata": {},
   "outputs": [],
   "source": [
    "cap = cv2.VideoCapture(0)\n",
    "\n",
    "while True:\n",
    "    ret, frame = cap.read()\n",
    "    gray = cv2.cvtColor(frame, cv2.COLOR_BGR2GRAY)\n",
    "    cv2.imshow(\"frame\", gray)\n",
    "    if cv2.waitKey(1) & 0xFF == ord('q'):\n",
    "        break\n",
    "        \n",
    "cap.release()\n",
    "cv2.destroyAllWindows()"
   ]
  },
  {
   "cell_type": "markdown",
   "id": "1b3f30ab-4eae-4e6d-94f0-c9ba77e7a72a",
   "metadata": {},
   "source": [
    "#### Playing Video from file"
   ]
  },
  {
   "cell_type": "code",
   "execution_count": 5,
   "id": "4ab41b6e-2977-4679-9dac-9803bd23503c",
   "metadata": {},
   "outputs": [],
   "source": [
    "cap = cv2.VideoCapture(\"output.avi\")\n",
    "while cap.isOpened():\n",
    "    ret, frame = cap.read()\n",
    "    gray = cv2.cvtColor(frame, cv2.COLOR_BGR2GRAY)\n",
    "    \n",
    "    cv2.imshow(\"frame\", frame)\n",
    "    if cv2.waitKey(1) & 0xFF == ord('q'):\n",
    "        break\n",
    "\n",
    "cap.release()\n",
    "cv2.destroyAllWindows()"
   ]
  },
  {
   "cell_type": "markdown",
   "id": "03277576-66b7-42ec-9e87-abf31a023b2b",
   "metadata": {},
   "source": [
    "#### Saving a video"
   ]
  },
  {
   "cell_type": "code",
   "execution_count": 4,
   "id": "ba74d48f-44bc-426f-9dd7-fd316bd14716",
   "metadata": {},
   "outputs": [],
   "source": [
    "cap = cv2.VideoCapture(0)\n",
    "fourcc = cv2.VideoWriter_fourcc(*\"XVID\")\n",
    "out = cv2.VideoWriter(\"output.avi\", fourcc, 20.0, (640, 480))\n",
    "\n",
    "while cap.isOpened():\n",
    "    ret, frame = cap.read()\n",
    "    if ret == True:\n",
    "        frame = cv2.flip(frame, 0)\n",
    "        out.write(frame)\n",
    "        cv2.imshow(\"frame\", frame)\n",
    "        if cv2.waitKey(1) & 0xFF == ord('q'):\n",
    "            break\n",
    "    else:\n",
    "        break\n",
    "        \n",
    "cap.release()\n",
    "out.release()\n",
    "cv2.destroyAllWindows()"
   ]
  }
 ],
 "metadata": {
  "kernelspec": {
   "display_name": "Python 3",
   "language": "python",
   "name": "python3"
  },
  "language_info": {
   "codemirror_mode": {
    "name": "ipython",
    "version": 3
   },
   "file_extension": ".py",
   "mimetype": "text/x-python",
   "name": "python",
   "nbconvert_exporter": "python",
   "pygments_lexer": "ipython3",
   "version": "3.8.11"
  }
 },
 "nbformat": 4,
 "nbformat_minor": 5
}
