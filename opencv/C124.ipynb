{
 "cells": [
  {
   "cell_type": "markdown",
   "id": "b49fc17f-022a-4224-ae1e-cbc5dd2534e9",
   "metadata": {},
   "source": [
    "### Mouse as a Paint-Brush"
   ]
  },
  {
   "cell_type": "code",
   "execution_count": 1,
   "id": "c1154b51-79d7-4717-b1e0-c1159dccdf66",
   "metadata": {},
   "outputs": [],
   "source": [
    "import cv2\n",
    "import numpy as np"
   ]
  },
  {
   "cell_type": "markdown",
   "id": "738f219a-97a0-435d-a474-8661a3472052",
   "metadata": {},
   "source": [
    "#### Simple Demo"
   ]
  },
  {
   "cell_type": "code",
   "execution_count": 2,
   "id": "999a0810-acc4-4575-8ffc-3e4761efae3b",
   "metadata": {},
   "outputs": [
    {
     "name": "stdout",
     "output_type": "stream",
     "text": [
      "['EVENT_FLAG_ALTKEY', 'EVENT_FLAG_CTRLKEY', 'EVENT_FLAG_LBUTTON', 'EVENT_FLAG_MBUTTON', 'EVENT_FLAG_RBUTTON', 'EVENT_FLAG_SHIFTKEY', 'EVENT_LBUTTONDBLCLK', 'EVENT_LBUTTONDOWN', 'EVENT_LBUTTONUP', 'EVENT_MBUTTONDBLCLK', 'EVENT_MBUTTONDOWN', 'EVENT_MBUTTONUP', 'EVENT_MOUSEHWHEEL', 'EVENT_MOUSEMOVE', 'EVENT_MOUSEWHEEL', 'EVENT_RBUTTONDBLCLK', 'EVENT_RBUTTONDOWN', 'EVENT_RBUTTONUP']\n"
     ]
    }
   ],
   "source": [
    "events = [i for i in dir(cv2) if \"EVENT\" in i]\n",
    "print(events)"
   ]
  },
  {
   "cell_type": "code",
   "execution_count": 3,
   "id": "29ad9c6c-5f3b-46e5-a468-e78caab6fb8c",
   "metadata": {},
   "outputs": [],
   "source": [
    "def draw_circle(event, x, y, flags, param):\n",
    "    if event == cv2.EVENT_LBUTTONDBLCLK:\n",
    "        cv2.circle(img, (x, y), 100, (255, 0, 0), -1)"
   ]
  },
  {
   "cell_type": "code",
   "execution_count": 4,
   "id": "e886712b-a600-41ef-86d3-bdac9c7518c6",
   "metadata": {},
   "outputs": [],
   "source": [
    "img = np.zeros((512, 512, 3), np.uint8)\n",
    "cv2.namedWindow(\"Image\")\n",
    "cv2.setMouseCallback(\"Image\", draw_circle)\n",
    "\n",
    "while (1):\n",
    "    cv2.imshow(\"Image\", img)\n",
    "    if cv2.waitKey(20) & 0xFF == 27:\n",
    "        break\n",
    "        \n",
    "cv2.destroyAllWindows()"
   ]
  },
  {
   "cell_type": "code",
   "execution_count": 5,
   "id": "1beb6ece-8102-4590-84df-4c86c1d7671c",
   "metadata": {},
   "outputs": [],
   "source": [
    "drawing = False\n",
    "mode = True\n",
    "ix, iy = -1, -1"
   ]
  },
  {
   "cell_type": "code",
   "execution_count": 10,
   "id": "f1ecfcf9-1734-4c9a-882c-fe85023f4499",
   "metadata": {},
   "outputs": [],
   "source": [
    "def draw_circle_advanced(event, x, y, flags, param):\n",
    "    global ix, iy, drawing, mode\n",
    "    if event == cv2.EVENT_LBUTTONDOWN:\n",
    "        drawing = True\n",
    "        ix, iy = x, y\n",
    "    elif event == cv2.EVENT_MOUSEMOVE:\n",
    "        if drawing == True:\n",
    "            if mode == True:\n",
    "                cv2.rectangle(img, (ix, iy), (x, y), (0, 255, 0), -1)\n",
    "            else:\n",
    "                cv2.circle(img, (x, y), 5, (0, 0, 255), -1)\n",
    "                \n",
    "    elif event == cv2.EVENT_LBUTTONUP:\n",
    "        drawing = False\n",
    "        if mode == True:\n",
    "            cv2.rectangle(img, (ix, iy), (x, y), (0, 255, 0), -1)\n",
    "        else:\n",
    "            cv2.circle(img, (x, y), 5, (0, 0, 255), -1)"
   ]
  },
  {
   "cell_type": "code",
   "execution_count": 11,
   "id": "d281c4ec-1c76-4b7a-9107-d0d03e6b8b15",
   "metadata": {},
   "outputs": [],
   "source": [
    "img = np.zeros((512, 512, 3), np.uint8)\n",
    "cv2.namedWindow(\"Image\")\n",
    "cv2.setMouseCallback(\"Image\", draw_circle_advanced)\n",
    "\n",
    "while True:\n",
    "    cv2.imshow(\"Image\", img)\n",
    "    k = cv2.waitKey(1) & 0xFF\n",
    "    if k == ord('m'):\n",
    "        mode = not mode\n",
    "    elif k == 27:\n",
    "        break\n",
    "        \n",
    "cv2.destroyAllWindows()"
   ]
  }
 ],
 "metadata": {
  "kernelspec": {
   "display_name": "Python 3",
   "language": "python",
   "name": "python3"
  },
  "language_info": {
   "codemirror_mode": {
    "name": "ipython",
    "version": 3
   },
   "file_extension": ".py",
   "mimetype": "text/x-python",
   "name": "python",
   "nbconvert_exporter": "python",
   "pygments_lexer": "ipython3",
   "version": "3.8.11"
  }
 },
 "nbformat": 4,
 "nbformat_minor": 5
}
