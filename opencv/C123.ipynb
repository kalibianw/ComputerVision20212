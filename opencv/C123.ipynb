{
 "cells": [
  {
   "cell_type": "markdown",
   "id": "ee0d8dcb-0563-47c1-975a-88b7dace96c7",
   "metadata": {},
   "source": [
    "### Drawing Line"
   ]
  },
  {
   "cell_type": "code",
   "execution_count": 1,
   "id": "03c40e06-34cb-4b4d-a5f2-3cdac4d46f6f",
   "metadata": {},
   "outputs": [],
   "source": [
    "import numpy as np\n",
    "import cv2"
   ]
  },
  {
   "cell_type": "code",
   "execution_count": 2,
   "id": "a02a87ae-fb62-445e-adee-91f57180de71",
   "metadata": {},
   "outputs": [],
   "source": [
    "img = np.zeros((512, 512, 3), np.uint8)"
   ]
  },
  {
   "cell_type": "markdown",
   "id": "d042a621-5e6b-4a65-b732-e82b256e6144",
   "metadata": {},
   "source": [
    "#### Drawing Line"
   ]
  },
  {
   "cell_type": "code",
   "execution_count": 5,
   "id": "9b85079d-223f-4c42-b3cf-a7c846e56c69",
   "metadata": {},
   "outputs": [],
   "source": [
    "img = cv2.line(img, (0, 0), (511, 511), (255, 0, 0), 5)\n",
    "img = cv2.line(img, (511, 0), (0, 511), (0, 255, 0), 3)\n",
    "\n",
    "cv2.imshow(\"img\", img)\n",
    "cv2.waitKey(0)\n",
    "cv2.destroyAllWindows()"
   ]
  },
  {
   "cell_type": "markdown",
   "id": "10a6cccc-0acf-4cff-a50a-0a508c68c5de",
   "metadata": {},
   "source": [
    "#### Drawing Rectangle"
   ]
  },
  {
   "cell_type": "code",
   "execution_count": 4,
   "id": "8b2b6b0f-74b5-4866-b2ee-cf516019b4d2",
   "metadata": {},
   "outputs": [],
   "source": [
    "img = cv2.rectangle(img, (384, 0), (510, 128), (0, 255, 0), 3)\n",
    "\n",
    "cv2.imshow(\"img\", img)\n",
    "cv2.waitKey(0)\n",
    "cv2.destroyAllWindows()"
   ]
  },
  {
   "cell_type": "markdown",
   "id": "c6947be7-be6a-4f63-a1bf-2ad863c409e6",
   "metadata": {},
   "source": [
    "#### Drawing Circle"
   ]
  },
  {
   "cell_type": "code",
   "execution_count": 5,
   "id": "8115962a-3098-442a-aff5-b4abdc317f56",
   "metadata": {},
   "outputs": [],
   "source": [
    "img = cv2.circle(img, (447, 63), 63, (0, 0, 255), -1)\n",
    "\n",
    "cv2.imshow(\"img\", img)\n",
    "cv2.waitKey(0)\n",
    "cv2.destroyAllWindows()"
   ]
  },
  {
   "cell_type": "markdown",
   "id": "76305e4a-46b8-42a7-9f33-7e20385b57cb",
   "metadata": {},
   "source": [
    "#### Drawing Ellipse"
   ]
  },
  {
   "cell_type": "code",
   "execution_count": 6,
   "id": "62546693-09b9-4c2b-9f3c-e60b8ca5103f",
   "metadata": {},
   "outputs": [],
   "source": [
    "img = cv2.ellipse(img, (256, 256), (100, 50), 0, 0, 180, 255, -1)\n",
    "\n",
    "cv2.imshow(\"img\", img)\n",
    "cv2.waitKey(0)\n",
    "cv2.destroyAllWindows()"
   ]
  },
  {
   "cell_type": "markdown",
   "id": "a9d87a04-30d1-4339-a2c2-bbc7b3a3fb45",
   "metadata": {},
   "source": [
    "#### Drawing Polygon"
   ]
  },
  {
   "cell_type": "code",
   "execution_count": 8,
   "id": "9b425866-9933-48c6-ae25-aa883fb99a39",
   "metadata": {},
   "outputs": [],
   "source": [
    "pts = np.array([[10, 5], [20, 30], [70, 20], [50, 10]], np.int32)\n",
    "pts = pts.reshape((-1, 1, 2))\n",
    "img = cv2.polylines(img, [pts], True, (0, 255, 255))\n",
    "\n",
    "cv2.imshow(\"img\", img)\n",
    "cv2.waitKey(0)\n",
    "cv2.destroyAllWindows()"
   ]
  },
  {
   "cell_type": "markdown",
   "id": "ac45030a-23b0-42ec-8352-3567251511ba",
   "metadata": {},
   "source": [
    "#### Put Text"
   ]
  },
  {
   "cell_type": "code",
   "execution_count": 7,
   "id": "2c0bdc87-1409-4ede-92d3-c6a8cc85f01c",
   "metadata": {},
   "outputs": [],
   "source": [
    "font = cv2.FONT_HERSHEY_SIMPLEX\n",
    "cv2.putText(img, \"OpenCV\", (10, 500), font, 4, (255, 255, 255), 2, cv2.LINE_AA)\n",
    "\n",
    "cv2.imshow(\"img\", img)\n",
    "cv2.waitKey(0)\n",
    "cv2.destroyAllWindows()"
   ]
  }
 ],
 "metadata": {
  "kernelspec": {
   "display_name": "Python 3 (ipykernel)",
   "language": "python",
   "name": "python3"
  },
  "language_info": {
   "codemirror_mode": {
    "name": "ipython",
    "version": 3
   },
   "file_extension": ".py",
   "mimetype": "text/x-python",
   "name": "python",
   "nbconvert_exporter": "python",
   "pygments_lexer": "ipython3",
   "version": "3.8.11"
  }
 },
 "nbformat": 4,
 "nbformat_minor": 5
}
