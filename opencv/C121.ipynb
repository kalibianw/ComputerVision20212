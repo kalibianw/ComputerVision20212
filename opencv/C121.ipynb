{
 "cells": [
  {
   "cell_type": "code",
   "execution_count": 1,
   "id": "e19ae113-8160-4409-b7a1-19e6af49f046",
   "metadata": {},
   "outputs": [],
   "source": [
    "import cv2\n",
    "IMG_RESOURCE_DIR_PATH = \"C:/Users/admin/Documents/git_public/ComputerVision20212/resource/img/\"\n",
    "CURRENT_DIR_PATH = \"C:/Users/admin/Documents/git_public/ComputerVision20212/opencv/\""
   ]
  },
  {
   "cell_type": "code",
   "execution_count": 2,
   "id": "6eb78926-8fc9-4b31-907c-800c234cf09e",
   "metadata": {},
   "outputs": [],
   "source": [
    "img = cv2.imread(IMG_RESOURCE_DIR_PATH + \"landscape.jpg\", 0)"
   ]
  },
  {
   "cell_type": "code",
   "execution_count": 3,
   "id": "d607f4a8-c709-4b93-a900-ac1d3a545c70",
   "metadata": {},
   "outputs": [],
   "source": [
    "# cv2.imshow(\"landscape\", img)\n",
    "# cv2.waitKey(0)\n",
    "# cv2.destroyAllWindows()"
   ]
  },
  {
   "cell_type": "code",
   "execution_count": 4,
   "id": "8a49977e-42ff-421b-aef5-1667bb41788d",
   "metadata": {},
   "outputs": [
    {
     "name": "stdout",
     "output_type": "stream",
     "text": [
      "115\n",
      "Write image\n"
     ]
    }
   ],
   "source": [
    "cv2.imshow(\"landscape\", img)\n",
    "k = cv2.waitKey(0)\n",
    "print(k)\n",
    "if k == 27:\n",
    "    cv2.destroyAllWindows()\n",
    "elif k == ord('s'):\n",
    "    print(\"Write image\")\n",
    "    cv2.imwrite(CURRENT_DIR_PATH + \"img.png\", img)\n",
    "    cv2.destroyAllWindows()"
   ]
  }
 ],
 "metadata": {
  "kernelspec": {
   "display_name": "Python 3 (ipykernel)",
   "language": "python",
   "name": "python3"
  },
  "language_info": {
   "codemirror_mode": {
    "name": "ipython",
    "version": 3
   },
   "file_extension": ".py",
   "mimetype": "text/x-python",
   "name": "python",
   "nbconvert_exporter": "python",
   "pygments_lexer": "ipython3",
   "version": "3.8.11"
  }
 },
 "nbformat": 4,
 "nbformat_minor": 5
}
