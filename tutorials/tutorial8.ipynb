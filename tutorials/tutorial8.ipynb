{
 "cells": [
  {
   "cell_type": "code",
   "execution_count": 1,
   "id": "1094c3a6-ef6b-4962-83e3-4fc1b7e39a7b",
   "metadata": {},
   "outputs": [],
   "source": [
    "def multiFun(x, y):\n",
    "    return x * y"
   ]
  },
  {
   "cell_type": "code",
   "execution_count": 2,
   "id": "fc0f10fb-1d4d-48f0-b654-64f08c732ba2",
   "metadata": {},
   "outputs": [
    {
     "data": {
      "text/plain": [
       "15"
      ]
     },
     "execution_count": 2,
     "metadata": {},
     "output_type": "execute_result"
    }
   ],
   "source": [
    "multiFun(3, 5)"
   ]
  },
  {
   "cell_type": "code",
   "execution_count": 3,
   "id": "c0e9c5a6-ac02-46a1-9701-a5770a945321",
   "metadata": {},
   "outputs": [],
   "source": [
    "def myFun(x):\n",
    "    return x * 3"
   ]
  },
  {
   "cell_type": "code",
   "execution_count": 4,
   "id": "35b734a6-f5d5-4f08-a579-dbce4740a0c4",
   "metadata": {},
   "outputs": [],
   "source": [
    "def apply(q, x):\n",
    "    return q(x)"
   ]
  },
  {
   "cell_type": "code",
   "execution_count": 5,
   "id": "aa41bcba-59dc-4eaa-864a-c0b3b308144d",
   "metadata": {},
   "outputs": [
    {
     "data": {
      "text/plain": [
       "9"
      ]
     },
     "execution_count": 5,
     "metadata": {},
     "output_type": "execute_result"
    }
   ],
   "source": [
    "apply(myFun, 3)"
   ]
  },
  {
   "cell_type": "code",
   "execution_count": 6,
   "id": "0962e2db-637c-45ab-83c7-7607faaa34d3",
   "metadata": {},
   "outputs": [
    {
     "data": {
      "text/plain": [
       "28"
      ]
     },
     "execution_count": 6,
     "metadata": {},
     "output_type": "execute_result"
    }
   ],
   "source": [
    "apply(lambda z:z * 4, 7)"
   ]
  },
  {
   "cell_type": "code",
   "execution_count": 7,
   "id": "824ff6fe-9945-4854-aca6-37a510a2e483",
   "metadata": {},
   "outputs": [],
   "source": [
    "def myFun(b, c=3, d=\"Hello\"):\n",
    "    return b + c"
   ]
  },
  {
   "cell_type": "code",
   "execution_count": 8,
   "id": "a9dc7769-fda6-412c-8c87-4bfc8e979f76",
   "metadata": {},
   "outputs": [
    {
     "data": {
      "text/plain": [
       "8"
      ]
     },
     "execution_count": 8,
     "metadata": {},
     "output_type": "execute_result"
    }
   ],
   "source": [
    "myFun(5, 3, \"Hello\")"
   ]
  },
  {
   "cell_type": "code",
   "execution_count": 9,
   "id": "d1417efc-3ec0-476c-af51-991c0f5075b5",
   "metadata": {},
   "outputs": [
    {
     "data": {
      "text/plain": [
       "8"
      ]
     },
     "execution_count": 9,
     "metadata": {},
     "output_type": "execute_result"
    }
   ],
   "source": [
    "myFun(5, 3)"
   ]
  },
  {
   "cell_type": "code",
   "execution_count": 10,
   "id": "2f3a85d7-f5b2-4ac3-9710-b7fcbe4354c3",
   "metadata": {},
   "outputs": [
    {
     "data": {
      "text/plain": [
       "8"
      ]
     },
     "execution_count": 10,
     "metadata": {},
     "output_type": "execute_result"
    }
   ],
   "source": [
    "myFun(5)"
   ]
  },
  {
   "cell_type": "code",
   "execution_count": 11,
   "id": "cb1ef75f-999a-4b28-83b5-efe6cc28502f",
   "metadata": {},
   "outputs": [],
   "source": [
    "def myFun(a, b, c):\n",
    "    return a - b"
   ]
  },
  {
   "cell_type": "code",
   "execution_count": 12,
   "id": "312cdc7a-5d1a-4a02-86f2-f75f325e9460",
   "metadata": {},
   "outputs": [
    {
     "data": {
      "text/plain": [
       "1"
      ]
     },
     "execution_count": 12,
     "metadata": {},
     "output_type": "execute_result"
    }
   ],
   "source": [
    "myFun(2, 1, 43)"
   ]
  },
  {
   "cell_type": "code",
   "execution_count": 13,
   "id": "84fc453e-3760-4e8d-b987-79366b4f8291",
   "metadata": {},
   "outputs": [
    {
     "data": {
      "text/plain": [
       "1"
      ]
     },
     "execution_count": 13,
     "metadata": {},
     "output_type": "execute_result"
    }
   ],
   "source": [
    "myFun(c=43, a = 2, b = 1)"
   ]
  },
  {
   "cell_type": "code",
   "execution_count": 14,
   "id": "2f1bd17c-89a3-46c1-a2bc-3dac1851e177",
   "metadata": {},
   "outputs": [
    {
     "data": {
      "text/plain": [
       "1"
      ]
     },
     "execution_count": 14,
     "metadata": {},
     "output_type": "execute_result"
    }
   ],
   "source": [
    "myFun(2, c=43, b=1)"
   ]
  }
 ],
 "metadata": {
  "kernelspec": {
   "display_name": "Python 3",
   "language": "python",
   "name": "python3"
  },
  "language_info": {
   "codemirror_mode": {
    "name": "ipython",
    "version": 3
   },
   "file_extension": ".py",
   "mimetype": "text/x-python",
   "name": "python",
   "nbconvert_exporter": "python",
   "pygments_lexer": "ipython3",
   "version": "3.8.10"
  }
 },
 "nbformat": 4,
 "nbformat_minor": 5
}
