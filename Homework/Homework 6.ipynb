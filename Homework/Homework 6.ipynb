{
 "cells": [
  {
   "cell_type": "code",
   "execution_count": 1,
   "id": "5d23b031-d42a-4293-9352-6b4a1d6be21a",
   "metadata": {},
   "outputs": [
    {
     "name": "stdout",
     "output_type": "stream",
     "text": [
      "True True\n"
     ]
    }
   ],
   "source": [
    "import cv2\n",
    "import numpy as np\n",
    "import matplotlib.pyplot as plt\n",
    "import os\n",
    "\n",
    "template_img_path = \"../resource/img/homework 6/template.jpg\"\n",
    "img_path = \"../resource/img/homework 6/img.jpg\"\n",
    "\n",
    "print(os.path.exists(template_img_path), os.path.exists(img_path))"
   ]
  },
  {
   "cell_type": "code",
   "execution_count": 2,
   "id": "cff4a72e-9910-49c6-bca3-6dba03efc0bc",
   "metadata": {},
   "outputs": [],
   "source": [
    "template_img = cv2.imread(template_img_path, 0)\n",
    "template_img = cv2.resize(template_img, (163, 575))"
   ]
  },
  {
   "cell_type": "code",
   "execution_count": 3,
   "id": "f8d492c9-dc25-482f-8d22-e53622aed9a5",
   "metadata": {},
   "outputs": [],
   "source": [
    "def nothing(x):\n",
    "    pass"
   ]
  },
  {
   "cell_type": "code",
   "execution_count": 4,
   "id": "6e59d9e9-8ac9-4aa3-b05f-39fbc8cd0f7e",
   "metadata": {},
   "outputs": [],
   "source": [
    "cv2.namedWindow(\"Main\")\n",
    "\n",
    "cv2.createTrackbar(\"value\", \"Main\", 128, 255, nothing)"
   ]
  },
  {
   "cell_type": "code",
   "execution_count": 5,
   "id": "603931a4-792f-42ba-8301-f2f033b5b185",
   "metadata": {},
   "outputs": [],
   "source": [
    "video = cv2.VideoCapture(0)\n",
    "while video.isOpened():\n",
    "    ret, frame = video.read()\n",
    "    if ret is True:\n",
    "        value = cv2.getTrackbarPos(\"value\", \"Main\") / 255.0\n",
    "        sift = cv2.SIFT_create()\n",
    "        kp1, des1 = sift.detectAndCompute(template_img, None)\n",
    "        kp2, des2 = sift.detectAndCompute(frame, None)\n",
    "        \n",
    "        bf = cv2.BFMatcher()\n",
    "        matches = bf.knnMatch(des1, des2, k=2)\n",
    "\n",
    "        good = []\n",
    "        for m, n in matches:\n",
    "            if m.distance < value * n.distance:\n",
    "                good.append([m])\n",
    "                \n",
    "        output_img = cv2.drawMatchesKnn(template_img, kp1, frame, kp2, good, None, flags=2)\n",
    "        cv2.imshow(\"Main\", output_img)\n",
    "        \n",
    "        if cv2.waitKey(1) & 0xFF == ord('q'):\n",
    "            break\n",
    "            \n",
    "    else:\n",
    "        break\n",
    "\n",
    "video.release()\n",
    "cv2.destroyAllWindows()"
   ]
  }
 ],
 "metadata": {
  "kernelspec": {
   "display_name": "Python 3",
   "language": "python",
   "name": "python3"
  },
  "language_info": {
   "codemirror_mode": {
    "name": "ipython",
    "version": 3
   },
   "file_extension": ".py",
   "mimetype": "text/x-python",
   "name": "python",
   "nbconvert_exporter": "python",
   "pygments_lexer": "ipython3",
   "version": "3.8.8"
  }
 },
 "nbformat": 4,
 "nbformat_minor": 5
}
